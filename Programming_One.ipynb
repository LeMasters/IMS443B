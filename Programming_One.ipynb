{
 "cells": [
  {
   "cell_type": "markdown",
   "id": "daaa5eb9-e749-4761-aaff-9872595e124f",
   "metadata": {},
   "source": [
    "## Let's Program... in Python!"
   ]
  },
  {
   "cell_type": "markdown",
   "id": "e5699684-eb1d-464a-92d8-38366e4dec4d",
   "metadata": {},
   "source": [
    "Recall Game Studies journal:"
   ]
  },
  {
   "cell_type": "markdown",
   "id": "1f164d47-1a92-4e5f-a76d-9da258831187",
   "metadata": {},
   "source": [
    "> ISSN:1604-7982"
   ]
  },
  {
   "cell_type": "raw",
   "id": "1184fa35-a232-4ac1-8e47-61d37d7b1454",
   "metadata": {},
   "source": [
    "I can keep these cells \"raw\" in order to avoid markdown AND python.  So I can use this as a reference in case I forget what I'm doing, etc.\n",
    "\n",
    "ISSN = \"1604798\"\n",
    "totalLength = len(ISSN)\n",
    "multiplier = totalLength + 1\n",
    "myTotal = 0\n",
    "for digit in map(int, ISSN):\n",
    "    tempTotal = multiplier * digit\n",
    "    multiplier = multiplier - 1\n",
    "    myTotal = myTotal + tempTotal\n",
    "print(myTotal)\n",
    "myTotal = myTotal % 11\n",
    "result = 11-myTotal\n",
    "print(result)"
   ]
  },
  {
   "cell_type": "markdown",
   "id": "68f28f90-69a7-4144-9e5c-0d08983d8c9b",
   "metadata": {},
   "source": [
    "It is preferable to write as few lines per cell as possible.  That way you can \"debug\" your code in real time (JupyterLab is unreasonably magical about making that work).  For example:"
   ]
  },
  {
   "cell_type": "markdown",
   "id": "f6ab7ced-a4c1-4d0d-b2a6-49705b5f5864",
   "metadata": {},
   "source": [
    "Let's create a variable called ISSN and give it our ISSN number as a \"string\" (a word) not an integer.  If we treat it like an integer, 1604798 becomes 1,604,798, and that is irrelevant to us.  We want to look at each letter as though it exists in its own world. "
   ]
  },
  {
   "cell_type": "markdown",
   "id": "1048fc4a-519d-4fcb-8e4c-069786759fd2",
   "metadata": {},
   "source": [
    "So we use an \"assignment operator,\" also called an \"equals sign\";"
   ]
  },
  {
   "cell_type": "markdown",
   "id": "e2e16067-f5f7-453a-8e1c-bd5fc8b70704",
   "metadata": {},
   "source": [
    "and then in order to create a string (basically, a human-style word) we use quotes."
   ]
  },
  {
   "cell_type": "code",
   "execution_count": 34,
   "id": "70f933d0-7bcb-4ad3-bcf9-e20abd5dac71",
   "metadata": {},
   "outputs": [],
   "source": [
    "ISSN = \"1604798\""
   ]
  },
  {
   "cell_type": "markdown",
   "id": "f65930aa-5bcf-4f50-820a-31854a847d9e",
   "metadata": {},
   "source": [
    "That's it!  Now (unlike other programming environments) ISSN will hold onto that value for a while!"
   ]
  },
  {
   "cell_type": "markdown",
   "id": "cea9a0c2-2642-4681-bc38-f89e251a3321",
   "metadata": {},
   "source": [
    "Let's try it out by asking it to \"print\" the value of ISSN."
   ]
  },
  {
   "cell_type": "code",
   "execution_count": 35,
   "id": "043420a6-f3db-4e32-b5c6-bef353d14774",
   "metadata": {},
   "outputs": [
    {
     "name": "stdout",
     "output_type": "stream",
     "text": [
      "1604798\n"
     ]
    }
   ],
   "source": [
    "print(ISSN)"
   ]
  },
  {
   "cell_type": "markdown",
   "id": "dbc11c28-0e00-47a3-83a5-f5e226d1e05f",
   "metadata": {},
   "source": [
    "See how it puts the output in the space below the line?  If we go back to those lines and run them again, the new output will reflect the new values (if there are any)."
   ]
  },
  {
   "cell_type": "markdown",
   "id": "10561998-d31f-42d0-bb4a-c6e4c49a065c",
   "metadata": {},
   "source": [
    "Because it is so common to ask the computer about the value of a variable, the shortcut is just to type out the name of the variable itself."
   ]
  },
  {
   "cell_type": "code",
   "execution_count": 36,
   "id": "4dbda3d9-a8bb-42ae-b0a8-60847809b8a3",
   "metadata": {},
   "outputs": [
    {
     "data": {
      "text/plain": [
       "'1604798'"
      ]
     },
     "execution_count": 36,
     "metadata": {},
     "output_type": "execute_result"
    }
   ],
   "source": [
    "ISSN"
   ]
  },
  {
   "cell_type": "markdown",
   "id": "afc09bba-2ea8-49ac-ae45-9e000a4dcf4c",
   "metadata": {},
   "source": [
    "One key idea:  Spaces are bad.  Avoid spaces whenever you can.  And to make things easier, always try to give variables names that will be easy to understand a month from now.  For example, reflect on the utility of these three variable names:"
   ]
  },
  {
   "cell_type": "code",
   "execution_count": 37,
   "id": "98357c85-bc0c-4182-a8c0-477281b49481",
   "metadata": {},
   "outputs": [],
   "source": [
    "p = \"Gwen\""
   ]
  },
  {
   "cell_type": "code",
   "execution_count": 38,
   "id": "a0cc095b-aa28-4551-a38f-1b17271c1737",
   "metadata": {},
   "outputs": [],
   "source": [
    "person = \"Gwen\""
   ]
  },
  {
   "cell_type": "code",
   "execution_count": 39,
   "id": "e0d48667-fed7-4556-a15e-7303a0b2deb9",
   "metadata": {},
   "outputs": [],
   "source": [
    "mySwornEnemy = \"Gwen\""
   ]
  },
  {
   "cell_type": "markdown",
   "id": "b46b4beb-0643-4525-86e7-77d041ca5b7f",
   "metadata": {},
   "source": [
    "See how that works?  But back to our ISSN problem."
   ]
  },
  {
   "cell_type": "markdown",
   "id": "c4f00123-c41f-4487-8759-dd1e6c489761",
   "metadata": {},
   "source": [
    "First:  Don't get hung up on using the tool \"like it is supposed to be used.\"  There is no right way to use it.  Worst case scenario:  Just use JupyterLab like a big dumb calculator!  There's nothing wrong with that (\"whatever works\"), and it is still hella useful.  To wit:"
   ]
  },
  {
   "cell_type": "code",
   "execution_count": 41,
   "id": "69ee605d-355c-420d-999c-e1fdd833e10f",
   "metadata": {},
   "outputs": [],
   "source": [
    "total = (8*1) + (7*6) + (6*0) + (5*4) + (4*7) + (3*9) + (2*8)"
   ]
  },
  {
   "cell_type": "code",
   "execution_count": 42,
   "id": "527f80e0-3409-4467-b754-68e27b04d338",
   "metadata": {},
   "outputs": [
    {
     "name": "stdout",
     "output_type": "stream",
     "text": [
      "141\n"
     ]
    }
   ],
   "source": [
    "print(total)"
   ]
  },
  {
   "cell_type": "markdown",
   "id": "e37679af-86ac-45db-84ff-44bcb42809f2",
   "metadata": {},
   "source": [
    "Then we get the modulo (cool kids say \"mod,\" we abbreviate it with percent sign, 'cause it is related to division, and the percent sign is a fancy division sign).  So the total *modulo* 11."
   ]
  },
  {
   "cell_type": "code",
   "execution_count": 45,
   "id": "9b1ded59-ed95-4bbb-b60c-00a57af2d533",
   "metadata": {},
   "outputs": [],
   "source": [
    "total=total%11"
   ]
  },
  {
   "cell_type": "code",
   "execution_count": 46,
   "id": "8130843d-e233-4303-85c3-d8f738f4a954",
   "metadata": {},
   "outputs": [
    {
     "name": "stdout",
     "output_type": "stream",
     "text": [
      "9\n"
     ]
    }
   ],
   "source": [
    "print(total)"
   ]
  },
  {
   "cell_type": "markdown",
   "id": "7466feee-5a98-4dd2-b21a-011017d39083",
   "metadata": {},
   "source": [
    "Last step:  Subtract that number from 11."
   ]
  },
  {
   "cell_type": "code",
   "execution_count": 47,
   "id": "12a38046-7fb0-46b3-a42a-87d5aaa3b537",
   "metadata": {},
   "outputs": [
    {
     "name": "stdout",
     "output_type": "stream",
     "text": [
      "2\n"
     ]
    }
   ],
   "source": [
    "print(11-9)"
   ]
  },
  {
   "cell_type": "markdown",
   "id": "75a05dd7-52b4-4a63-8881-73b5a9d8c7fa",
   "metadata": {},
   "source": [
    "Huzzah!  That's what we were looking for.  So that's one way to do it.  But we can write some code to do some (or all) of it, too.  Here's what that would look like.\n",
    "\n",
    "*(Self-evidently, every line of code increases the likelihood that something will go wrong.  Just accept that, and carry on.)*"
   ]
  },
  {
   "cell_type": "markdown",
   "id": "207fe42f-2712-4b85-8f33-15fec52c3ecb",
   "metadata": {},
   "source": [
    "### first"
   ]
  },
  {
   "cell_type": "markdown",
   "id": "1ca703bf-437e-4615-b8ca-dec368453f3e",
   "metadata": {},
   "source": [
    "get the length (number of characters) of our ISSN string, and then add 1 to that number.  My goal is to count down from the left to the right so the last digit (on the right) has a multiplier of 2 (see our calculations above)."
   ]
  },
  {
   "cell_type": "code",
   "execution_count": 50,
   "id": "e7d01200-11f5-4445-97a2-c1232b40aae3",
   "metadata": {},
   "outputs": [],
   "source": [
    "digitMultiplier = len(ISSN) + 1"
   ]
  },
  {
   "cell_type": "code",
   "execution_count": 56,
   "id": "92db73fd-95fa-43ac-a0a4-76119955d727",
   "metadata": {},
   "outputs": [
    {
     "data": {
      "text/plain": [
       "8"
      ]
     },
     "execution_count": 56,
     "metadata": {},
     "output_type": "execute_result"
    }
   ],
   "source": [
    "digitMultiplier"
   ]
  },
  {
   "cell_type": "markdown",
   "id": "7ee83ea8-7ec6-4757-95a6-69dcf4e035b2",
   "metadata": {},
   "source": [
    "Remember that this is a shortcut to saying \"print(digitMultiplier)\""
   ]
  },
  {
   "cell_type": "markdown",
   "id": "013876fa-6c88-49e0-80f6-ad9ad0e0cb3d",
   "metadata": {},
   "source": [
    "Now it gets a bit more complicated, because I'm going to ask the computer to do something repeatedly and track the answer as it changes.  I'm going to ask the computer to \"iterate\" over these characters and do the math with each iteration, so I'll need a running total.  Let's create it ahead of time."
   ]
  },
  {
   "cell_type": "code",
   "execution_count": 53,
   "id": "e38c2762-6609-4009-9710-63944126725f",
   "metadata": {},
   "outputs": [],
   "source": [
    "runningTotal = 0"
   ]
  },
  {
   "cell_type": "code",
   "execution_count": 65,
   "id": "13c56ea2-d972-4462-806e-80e5b763296f",
   "metadata": {},
   "outputs": [
    {
     "data": {
      "text/plain": [
       "0"
      ]
     },
     "execution_count": 65,
     "metadata": {},
     "output_type": "execute_result"
    }
   ],
   "source": [
    "runningTotal"
   ]
  },
  {
   "cell_type": "markdown",
   "id": "967c55a6-b537-4e70-b0eb-759b5fd6b628",
   "metadata": {},
   "source": [
    "Ready?  Cause it gets weird from this point forward.  I'll build it out slowly and test parts of the code as I go along -- that's how I write 90% of my Python code, because Python Is Not My Friend."
   ]
  },
  {
   "cell_type": "code",
   "execution_count": 67,
   "id": "c7f02bb4-9c26-4bf6-b29d-c7023f7de167",
   "metadata": {},
   "outputs": [
    {
     "name": "stdout",
     "output_type": "stream",
     "text": [
      "1\n",
      "6\n",
      "0\n",
      "4\n",
      "7\n",
      "9\n",
      "8\n"
     ]
    }
   ],
   "source": [
    "for eachCharacter in ISSN:\n",
    "    print(eachCharacter)"
   ]
  },
  {
   "cell_type": "markdown",
   "id": "b55d3da0-d558-4d16-b983-3dba709b7090",
   "metadata": {},
   "source": [
    "OK, but those characters are not numbers, they are strings -- \"6\" instead of 6.  Watch how this fails (I'm adding \"1\" arbitrarily, just to show it failing/working):"
   ]
  },
  {
   "cell_type": "code",
   "execution_count": 68,
   "id": "a89cddd0-698d-4b58-acf1-37b445d597c7",
   "metadata": {},
   "outputs": [
    {
     "ename": "TypeError",
     "evalue": "can only concatenate str (not \"int\") to str",
     "output_type": "error",
     "traceback": [
      "\u001b[0;31m---------------------------------------------------------------------------\u001b[0m",
      "\u001b[0;31mTypeError\u001b[0m                                 Traceback (most recent call last)",
      "Input \u001b[0;32mIn [68]\u001b[0m, in \u001b[0;36m<cell line: 1>\u001b[0;34m()\u001b[0m\n\u001b[1;32m      1\u001b[0m \u001b[38;5;28;01mfor\u001b[39;00m eachCharacter \u001b[38;5;129;01min\u001b[39;00m ISSN:\n\u001b[0;32m----> 2\u001b[0m     \u001b[38;5;28mprint\u001b[39m(\u001b[43meachCharacter\u001b[49m\u001b[38;5;241;43m+\u001b[39;49m\u001b[38;5;241;43m1\u001b[39;49m)\n",
      "\u001b[0;31mTypeError\u001b[0m: can only concatenate str (not \"int\") to str"
     ]
    }
   ],
   "source": [
    "for eachCharacter in ISSN:\n",
    "    print(eachCharacter+1)"
   ]
  },
  {
   "cell_type": "markdown",
   "id": "327e2c4a-08c6-4f90-851c-547f8405bd55",
   "metadata": {},
   "source": [
    "Basically, \"concatenate\" means \"push letters together.\"  So when I have integers, 3+5+7=15; but when I'm using strings, 3+5+7=357.  Since \"1604798\" started as a string, each character it gets from that string is still a string.  So we need to \"transform\" each character into an integer.  We use the int() function, which -- whenever possible -- converts a string into an integer."
   ]
  },
  {
   "cell_type": "code",
   "execution_count": 69,
   "id": "db9976b9-704f-4258-8033-30286b13bb64",
   "metadata": {},
   "outputs": [
    {
     "name": "stdout",
     "output_type": "stream",
     "text": [
      "2\n",
      "7\n",
      "1\n",
      "5\n",
      "8\n",
      "10\n",
      "9\n"
     ]
    }
   ],
   "source": [
    "for eachCharacter in ISSN:\n",
    "    myNumber = int(eachCharacter)\n",
    "    print(myNumber+1)"
   ]
  },
  {
   "cell_type": "markdown",
   "id": "2dcb9ca8-af05-45c1-99b3-ff4f725661e5",
   "metadata": {},
   "source": [
    "*Cool.*"
   ]
  },
  {
   "cell_type": "markdown",
   "id": "62ba201e-8795-415a-8ec6-5e7178a3d0ba",
   "metadata": {},
   "source": [
    "So now we have each number, one at a time, starting from the first digit in the series.  This is where that `digitMultiplier` variable from before comes in handy.  (Note that I have to keep retyping this part of the code because it is a \"for\" loop, and therefore exists as a kind of unit."
   ]
  },
  {
   "cell_type": "code",
   "execution_count": 70,
   "id": "52043cde-5c02-45d6-9e95-ee89f72405ab",
   "metadata": {},
   "outputs": [
    {
     "name": "stdout",
     "output_type": "stream",
     "text": [
      "8\n",
      "48\n",
      "0\n",
      "32\n",
      "56\n",
      "72\n",
      "64\n"
     ]
    }
   ],
   "source": [
    "for eachCharacter in ISSN:\n",
    "    myNumber = int(eachCharacter)\n",
    "    myProduct = myNumber * digitMultiplier\n",
    "    print(myProduct)"
   ]
  },
  {
   "cell_type": "markdown",
   "id": "ec7929fc-2b64-459f-982f-78ea0bb5e708",
   "metadata": {},
   "source": [
    "That's a start, but it isn't quite right:  Remember we need to DECREMENT each subsequent multiplier by one (8, then 7, then 6.... and eventually 2).  We're going to be changing that value (`digitMultiplier`) permanently along the way, so let's refresh the correct value by adding it to the top of the codepile (a technical term)."
   ]
  },
  {
   "cell_type": "code",
   "execution_count": 72,
   "id": "30fca022-878b-4642-8180-aa1bfe8d9968",
   "metadata": {},
   "outputs": [],
   "source": [
    "digitMultiplier = len(ISSN) + 1"
   ]
  },
  {
   "cell_type": "code",
   "execution_count": 73,
   "id": "4e78281f-8db8-4163-8112-95569fe61e85",
   "metadata": {},
   "outputs": [],
   "source": [
    "myTotal = 0"
   ]
  },
  {
   "cell_type": "code",
   "execution_count": 74,
   "id": "a6ac9c27-ee8a-4b16-9748-08030d14d5c9",
   "metadata": {},
   "outputs": [],
   "source": [
    "for eachCharacter in ISSN:\n",
    "    myNumber = int(eachCharacter)\n",
    "    myProduct = myNumber * digitMultiplier\n",
    "    # calculate a running total:\n",
    "    myTotal = myTotal + myProduct\n",
    "    # gradually reduce the value of the multiplier\n",
    "    digitMultiplier = digitMultiplier - 1"
   ]
  },
  {
   "cell_type": "markdown",
   "id": "54c27992-a15f-46ea-9a39-00b954b32f6e",
   "metadata": {},
   "source": [
    "What did we end up with?  Let's find out -- based on earlier results, it should be 141."
   ]
  },
  {
   "cell_type": "code",
   "execution_count": 75,
   "id": "ade24886-06d7-4e71-af89-7da015d554dd",
   "metadata": {},
   "outputs": [
    {
     "name": "stdout",
     "output_type": "stream",
     "text": [
      "141\n"
     ]
    }
   ],
   "source": [
    "print(myTotal)"
   ]
  },
  {
   "cell_type": "markdown",
   "id": "9836b178-9f61-4ac6-a82b-628e9479d946",
   "metadata": {},
   "source": [
    "OMG IT WORKED.  It is gravy from this point forward:"
   ]
  },
  {
   "cell_type": "code",
   "execution_count": 76,
   "id": "71087b3b-b5fe-4a54-8009-369547456abc",
   "metadata": {},
   "outputs": [],
   "source": [
    "myTotal = myTotal%11"
   ]
  },
  {
   "cell_type": "code",
   "execution_count": 77,
   "id": "4b233d21-2339-40db-afe3-8daf4c3830a8",
   "metadata": {},
   "outputs": [],
   "source": [
    "myResult = 11-myTotal"
   ]
  },
  {
   "cell_type": "code",
   "execution_count": 78,
   "id": "cc64fcfe-f2c8-4b85-9393-860803df858f",
   "metadata": {},
   "outputs": [
    {
     "name": "stdout",
     "output_type": "stream",
     "text": [
      "2\n"
     ]
    }
   ],
   "source": [
    "print(myResult)"
   ]
  },
  {
   "cell_type": "markdown",
   "id": "30ebbdd7-d24e-4001-af0c-f239ce44f953",
   "metadata": {},
   "source": [
    "Remember way back when?  Check out the last digit in the sequence!"
   ]
  },
  {
   "cell_type": "markdown",
   "id": "7d3f7c23-cd86-4b9b-b7f1-02c78ea4fcb4",
   "metadata": {},
   "source": [
    "##  ISSN:1604-7982"
   ]
  },
  {
   "cell_type": "code",
   "execution_count": null,
   "id": "6a6d8ad9-9d0a-4b81-8c9d-c611e7ac6d73",
   "metadata": {},
   "outputs": [],
   "source": []
  }
 ],
 "metadata": {
  "kernelspec": {
   "display_name": "Python 3 (ipykernel)",
   "language": "python",
   "name": "python3"
  },
  "language_info": {
   "codemirror_mode": {
    "name": "ipython",
    "version": 3
   },
   "file_extension": ".py",
   "mimetype": "text/x-python",
   "name": "python",
   "nbconvert_exporter": "python",
   "pygments_lexer": "ipython3",
   "version": "3.9.10"
  },
  "toc-showcode": false,
  "toc-showmarkdowntxt": false
 },
 "nbformat": 4,
 "nbformat_minor": 5
}
